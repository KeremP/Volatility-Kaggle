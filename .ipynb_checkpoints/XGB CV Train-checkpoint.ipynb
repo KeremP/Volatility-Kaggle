{
 "cells": [
  {
   "cell_type": "code",
   "execution_count": 1,
   "id": "abandoned-assistant",
   "metadata": {},
   "outputs": [],
   "source": [
    "import os, gc\n",
    "import glob\n",
    "\n",
    "from tqdm.notebook import tqdm\n",
    "import pandas as pd\n",
    "import numpy as np\n",
    "\n",
    "from joblib import Parallel, delayed\n",
    "from sklearn import preprocessing, model_selection\n",
    "\n",
    "import statsmodels.api as sm\n",
    "\n",
    "import matplotlib.pyplot as plt\n",
    "import seaborn as sns\n",
    "\n",
    "import xgboost as xgb\n",
    "\n",
    "%matplotlib inline"
   ]
  },
  {
   "cell_type": "code",
   "execution_count": 2,
   "id": "indonesian-hayes",
   "metadata": {},
   "outputs": [],
   "source": [
    "path_root = \"./\"\n",
    "path_data = \"./\"\n",
    "\n",
    "path_submissions = \"./\"\n",
    "\n",
    "target_name = 'target'"
   ]
  },
  {
   "cell_type": "code",
   "execution_count": 3,
   "id": "electoral-operations",
   "metadata": {},
   "outputs": [],
   "source": [
    "train = pd.read_csv(os.path.join(path_data, 'train.csv'))"
   ]
  },
  {
   "cell_type": "code",
   "execution_count": 4,
   "id": "dedicated-bowling",
   "metadata": {},
   "outputs": [],
   "source": [
    "test = pd.read_csv(os.path.join(path_data,'test.csv'))"
   ]
  },
  {
   "cell_type": "code",
   "execution_count": 5,
   "id": "developmental-chair",
   "metadata": {},
   "outputs": [],
   "source": [
    "def log_return(list_stock_prices):\n",
    "    return np.log(list_stock_prices).diff() \n",
    "\n",
    "def count_unique(series):\n",
    "    return len(np.unique(series))\n",
    "\n",
    "def realized_volatility(series_log_return):\n",
    "    return np.sqrt(np.sum(series_log_return**2))\n",
    "\n",
    "def rmspe(y_true, y_pred):\n",
    "    return (np.sqrt(np.mean(np.square((y_true - y_pred)/y_true))))\n",
    "\n",
    "def aggressor_side(series):\n",
    "    return np.sign(series.diff())\n",
    "\n",
    "def dollar_volume(df):\n",
    "    return np.array(df['price'])*np.array(df['size'])\n",
    "\n",
    "def signed_dollar_volume(df):\n",
    "    side = aggressor_side(df)\n",
    "    return np.array(df['dollar_volume'])*side\n",
    "\n",
    "def kyle_lambda(df):\n",
    "    diff = df['price'].diff().fillna(0)\n",
    "    diff_sign = diff.apply(np.sign)\n",
    "    diff_sign.replace(0,method='pad',inplace=True)\n",
    "    signed_volume = df['size'] * diff_sign\n",
    "#     print((diff / signed_volume).rolling(window=1).mean())\n",
    "    return np.array((diff / signed_volume).rolling(window=1).mean())\n",
    "\n",
    "def hasbrouck_lambda(log_ret, dollar_volume):\n",
    "    log_ret_sign = log_ret.apply(np.sign).replace(0,method='pad')\n",
    "    signed_dollar_volume_sqrt = np.sqrt(dollar_volume) * log_ret_sign\n",
    "    \n",
    "    return np.array((log_ret/signed_dollar_volume_sqrt).rolling(window=1).mean())\n",
    "\n",
    "def vpin(volume, signed_buy_volume, window = 1):\n",
    "    signed_sell_volume = volume - signed_buy_volume\n",
    "    volume_imb = abs(signed_buy_volume - signed_sell_volume)\n",
    "    return volume_imb.rolling(window=window).mean()/volume\n",
    "\n",
    "\n"
   ]
  },
  {
   "cell_type": "code",
   "execution_count": 6,
   "id": "generous-arrest",
   "metadata": {},
   "outputs": [],
   "source": [
    "def trade_preprocessor(file_path):\n",
    "    df = pd.read_parquet(file_path)\n",
    "    df['log_return'] = df.groupby('time_id')['price'].apply(log_return)\n",
    "    \n",
    "    df['side'] = np.sign(df['price'].diff())\n",
    "    df['dollar_volume'] = df['price'] * df['size']\n",
    "    df['signed_dollar_volume'] = df['dollar_volume'] * df['side']\n",
    "    df['kyles'] = kyle_lambda(df)\n",
    "    df['hasb'] = hasbrouck_lambda(df['log_return'],df['dollar_volume'])\n",
    "    \n",
    "    agg_dict = {\n",
    "        'log_return':[realized_volatility],\n",
    "        'size':[np.sum],\n",
    "        'order_count':[np.mean],\n",
    "        'dollar_volume':[np.sum],\n",
    "        'signed_dollar_volume':[np.sum],\n",
    "        'kyles':[np.mean],\n",
    "        'hasb':[np.mean],\n",
    "    }\n",
    "    \n",
    "    df_feature = df.groupby('time_id').agg(agg_dict)\n",
    "    \n",
    "    df_feature = df_feature.reset_index()\n",
    "    df_feature.columns = ['_'.join(col) for col in df_feature.columns]\n",
    "    \n",
    "    df_feature = df_feature.add_prefix('trade_')\n",
    "    stock_id = file_path.split('=')[1]\n",
    "    df_feature['row_id'] = df_feature['trade_time_id_'].apply(lambda x:f'{stock_id}-{x}')\n",
    "    df_feature = df_feature.drop(['trade_time_id_'],axis=1)\n",
    "    \n",
    "    return df_feature\n",
    "\n",
    "def book_preprocessor(file_path):\n",
    "    df_book = pd.read_parquet(file_path)\n",
    "    df_book['wap1'] = (df_book['bid_price1'] * df_book['ask_size1'] +\n",
    "                                    df_book['ask_price1'] * df_book['bid_size1']) / (df_book['bid_size1'] + df_book['ask_size1'])\n",
    "    df_book['wap2'] = (df_book['bid_price2'] * df_book['ask_size2'] +\n",
    "                                    df_book['ask_price2'] * df_book['bid_size2']) / (df_book['bid_size2'] + df_book['ask_size2'])\n",
    "    \n",
    "    df_book['log_return1'] = df_book.groupby(by = ['time_id'])['wap1'].apply(log_return).fillna(0)\n",
    "    df_book['log_return2'] = df_book.groupby(by = ['time_id'])['wap2'].apply(log_return).fillna(0)\n",
    "    df_book['volume'] = (df_book['ask_size1'] + df_book['ask_size2']) + (df_book['bid_size1'] + df_book['bid_size2'])\n",
    "    df_book['volume_imbalance'] = (df_book['ask_size1'] + df_book['ask_size2']) - (df_book['bid_size1'] + df_book['bid_size1'])\n",
    "    \n",
    "    agg_dict = {\n",
    "        'log_return1':[realized_volatility],\n",
    "        'log_return2':[realized_volatility],\n",
    "        'volume':[np.sum],\n",
    "        'volume_imbalance':[np.sum],\n",
    "    }\n",
    "    \n",
    "    df_book = df_book.groupby(['time_id']).agg(agg_dict).reset_index()\n",
    "    df_book.columns = ['_'.join(col) for col in df_book.columns]\n",
    "    stock_id = file_path.split('=')[1]\n",
    "    df_book['row_id'] = df_book['time_id_'].apply(lambda x:f'{stock_id}-{x}')\n",
    "    df_book = df_book.drop(['time_id_'],axis=1)\n",
    "    \n",
    "    return df_book"
   ]
  },
  {
   "cell_type": "code",
   "execution_count": 7,
   "id": "tracked-millennium",
   "metadata": {},
   "outputs": [],
   "source": [
    "def get_stock_data(stock_ids,training=True):\n",
    "    df = pd.DataFrame()\n",
    "    \n",
    "    def for_joblib(stock_id):\n",
    "        if training:\n",
    "            dataType = 'train'\n",
    "            file_path_book = os.path.join(path_data, 'book_{}.parquet/stock_id={}'.format(dataType, stock_id))\n",
    "            file_path_trade = os.path.join(path_data,'trade_{}.parquet/stock_id={}'.format(dataType, stock_id))\n",
    "        else:\n",
    "            dataType = 'test'\n",
    "            file_path_book = os.path.join(path_data, 'book_{}.parquet/stock_id={}'.format(dataType, stock_id))\n",
    "            file_path_trade = os.path.join(path_data,'trade_{}.parquet/stock_id={}'.format(dataType, stock_id))\n",
    "            \n",
    "        df_tmp = pd.merge(book_preprocessor(file_path_book),trade_preprocessor(file_path_trade),on='row_id',how='left')\n",
    "        \n",
    "        \n",
    "        return pd.concat([df,df_tmp])\n",
    "    \n",
    "    \n",
    "    df = Parallel(n_jobs=-1,verbose=1)(\n",
    "            delayed(for_joblib)(stock_id) for stock_id in stock_ids\n",
    "        )\n",
    "            \n",
    "        \n",
    "    df = pd.concat(df,ignore_index=True)\n",
    "    \n",
    "    return df"
   ]
  },
  {
   "cell_type": "code",
   "execution_count": 8,
   "id": "median-passing",
   "metadata": {},
   "outputs": [],
   "source": [
    "df_train = pd.read_csv('./processed_train.csv',index_col=0)"
   ]
  },
  {
   "cell_type": "code",
   "execution_count": 9,
   "id": "literary-beauty",
   "metadata": {},
   "outputs": [],
   "source": [
    "test_ids = test.stock_id.unique()"
   ]
  },
  {
   "cell_type": "code",
   "execution_count": 10,
   "id": "endangered-redhead",
   "metadata": {},
   "outputs": [
    {
     "name": "stderr",
     "output_type": "stream",
     "text": [
      "[Parallel(n_jobs=-1)]: Using backend LokyBackend with 8 concurrent workers.\n"
     ]
    },
    {
     "name": "stdout",
     "output_type": "stream",
     "text": [
      "Wall time: 1.03 s\n"
     ]
    },
    {
     "name": "stderr",
     "output_type": "stream",
     "text": [
      "[Parallel(n_jobs=-1)]: Done   1 out of   1 | elapsed:    0.9s finished\n"
     ]
    }
   ],
   "source": [
    "%%time\n",
    "df_test = get_stock_data(test_ids, training=False)"
   ]
  },
  {
   "cell_type": "code",
   "execution_count": 11,
   "id": "coated-civilian",
   "metadata": {},
   "outputs": [],
   "source": [
    "df_test = test.merge(df_test,on=['row_id'],how='left')"
   ]
  },
  {
   "cell_type": "code",
   "execution_count": 12,
   "id": "surgical-dividend",
   "metadata": {},
   "outputs": [],
   "source": [
    "df_train['stock_id'] = df_train['row_id'].apply(lambda x:x.split('-')[0])\n",
    "df_test['stock_id'] = df_test['row_id'].apply(lambda x:x.split('-')[0])\n",
    "\n",
    "\n",
    "stock_id_target_mean = df_train.groupby('stock_id')['target'].mean()\n",
    "df_test['stock_id_target_enc'] = df_test['stock_id'].map(stock_id_target_mean)\n",
    "\n"
   ]
  },
  {
   "cell_type": "code",
   "execution_count": 13,
   "id": "biblical-president",
   "metadata": {},
   "outputs": [],
   "source": [
    "from sklearn.model_selection import KFold\n",
    "kf = KFold(n_splits=10,shuffle=True,random_state=729201)\n",
    "\n",
    "tmp = np.repeat(np.nan,df_train.shape[0])\n",
    "\n",
    "for idx1, idx2 in kf.split(df_train):\n",
    "    target_mean = df_train.iloc[idx1].groupby('stock_id')['target'].mean()\n",
    "    tmp[idx2] = df_train['stock_id'].iloc[idx2].map(target_mean)\n",
    "    \n",
    "df_train['stock_id_target_enc'] = tmp"
   ]
  },
  {
   "cell_type": "code",
   "execution_count": 14,
   "id": "intelligent-vinyl",
   "metadata": {},
   "outputs": [],
   "source": [
    "from sklearn.model_selection._split import _BaseKFold, indexable, _num_samples\n",
    "from sklearn.utils.validation import _deprecate_positional_args\n",
    "\n",
    "# modified code for group gaps; source\n",
    "# https://github.com/getgaurav2/scikit-learn/blob/d4a3af5cc9da3a76f0266932644b884c99724c57/sklearn/model_selection/_split.py#L2243\n",
    "class PurgedGroupTimeSeriesSplit(_BaseKFold):\n",
    "    \"\"\"Time Series cross-validator variant with non-overlapping groups.\n",
    "    Allows for a gap in groups to avoid potentially leaking info from\n",
    "    train into test if the model has windowed or lag features.\n",
    "    Provides train/test indices to split time series data samples\n",
    "    that are observed at fixed time intervals according to a\n",
    "    third-party provided group.\n",
    "    In each split, test indices must be higher than before, and thus shuffling\n",
    "    in cross validator is inappropriate.\n",
    "    This cross-validation object is a variation of :class:`KFold`.\n",
    "    In the kth split, it returns first k folds as train set and the\n",
    "    (k+1)th fold as test set.\n",
    "    The same group will not appear in two different folds (the number of\n",
    "    distinct groups has to be at least equal to the number of folds).\n",
    "    Note that unlike standard cross-validation methods, successive\n",
    "    training sets are supersets of those that come before them.\n",
    "    Read more in the :ref:`User Guide <cross_validation>`.\n",
    "    Parameters\n",
    "    ----------\n",
    "    n_splits : int, default=5\n",
    "        Number of splits. Must be at least 2.\n",
    "    max_train_group_size : int, default=Inf\n",
    "        Maximum group size for a single training set.\n",
    "    group_gap : int, default=None\n",
    "        Gap between train and test\n",
    "    max_test_group_size : int, default=Inf\n",
    "        We discard this number of groups from the end of each train split\n",
    "    \"\"\"\n",
    "\n",
    "    @_deprecate_positional_args\n",
    "    def __init__(self,\n",
    "                 n_splits=5,\n",
    "                 *,\n",
    "                 max_train_group_size=np.inf,\n",
    "                 max_test_group_size=np.inf,\n",
    "                 group_gap=None,\n",
    "                 verbose=False\n",
    "                 ):\n",
    "        super().__init__(n_splits, shuffle=False, random_state=None)\n",
    "        self.max_train_group_size = max_train_group_size\n",
    "        self.group_gap = group_gap\n",
    "        self.max_test_group_size = max_test_group_size\n",
    "        self.verbose = verbose\n",
    "\n",
    "    def split(self, X, y=None, groups=None):\n",
    "        \"\"\"Generate indices to split data into training and test set.\n",
    "        Parameters\n",
    "        ----------\n",
    "        X : array-like of shape (n_samples, n_features)\n",
    "            Training data, where n_samples is the number of samples\n",
    "            and n_features is the number of features.\n",
    "        y : array-like of shape (n_samples,)\n",
    "            Always ignored, exists for compatibility.\n",
    "        groups : array-like of shape (n_samples,)\n",
    "            Group labels for the samples used while splitting the dataset into\n",
    "            train/test set.\n",
    "        Yields\n",
    "        ------\n",
    "        train : ndarray\n",
    "            The training set indices for that split.\n",
    "        test : ndarray\n",
    "            The testing set indices for that split.\n",
    "        \"\"\"\n",
    "        if groups is None:\n",
    "            raise ValueError(\n",
    "                \"The 'groups' parameter should not be None\")\n",
    "        X, y, groups = indexable(X, y, groups)\n",
    "        n_samples = _num_samples(X)\n",
    "        n_splits = self.n_splits\n",
    "        group_gap = self.group_gap\n",
    "        max_test_group_size = self.max_test_group_size\n",
    "        max_train_group_size = self.max_train_group_size\n",
    "        n_folds = n_splits + 1\n",
    "        group_dict = {}\n",
    "        u, ind = np.unique(groups, return_index=True)\n",
    "        unique_groups = u[np.argsort(ind)]\n",
    "        n_samples = _num_samples(X)\n",
    "        n_groups = _num_samples(unique_groups)\n",
    "        for idx in np.arange(n_samples):\n",
    "            if (groups[idx] in group_dict):\n",
    "                group_dict[groups[idx]].append(idx)\n",
    "            else:\n",
    "                group_dict[groups[idx]] = [idx]\n",
    "        if n_folds > n_groups:\n",
    "            raise ValueError(\n",
    "                (\"Cannot have number of folds={0} greater than\"\n",
    "                 \" the number of groups={1}\").format(n_folds,\n",
    "                                                     n_groups))\n",
    "\n",
    "        group_test_size = min(n_groups // n_folds, max_test_group_size)\n",
    "        group_test_starts = range(n_groups - n_splits * group_test_size,\n",
    "                                  n_groups, group_test_size)\n",
    "        for group_test_start in group_test_starts:\n",
    "            train_array = []\n",
    "            test_array = []\n",
    "\n",
    "            group_st = max(0, group_test_start - group_gap - max_train_group_size)\n",
    "            for train_group_idx in unique_groups[group_st:(group_test_start - group_gap)]:\n",
    "                train_array_tmp = group_dict[train_group_idx]\n",
    "                \n",
    "                train_array = np.sort(np.unique(\n",
    "                                      np.concatenate((train_array,\n",
    "                                                      train_array_tmp)),\n",
    "                                      axis=None), axis=None)\n",
    "\n",
    "            train_end = train_array.size\n",
    " \n",
    "            for test_group_idx in unique_groups[group_test_start:\n",
    "                                                group_test_start +\n",
    "                                                group_test_size]:\n",
    "                test_array_tmp = group_dict[test_group_idx]\n",
    "                test_array = np.sort(np.unique(\n",
    "                                              np.concatenate((test_array,\n",
    "                                                              test_array_tmp)),\n",
    "                                     axis=None), axis=None)\n",
    "\n",
    "            test_array  = test_array[group_gap:]\n",
    "            \n",
    "            \n",
    "            if self.verbose > 0:\n",
    "                    pass\n",
    "                    \n",
    "            yield [int(i) for i in train_array], [int(i) for i in test_array]"
   ]
  },
  {
   "cell_type": "code",
   "execution_count": 15,
   "id": "proved-movement",
   "metadata": {},
   "outputs": [],
   "source": [
    "df_train['stock_id'] = df_train['stock_id'].astype(int)\n",
    "df_test['stock_id'] = df_test['stock_id'].astype(int)"
   ]
  },
  {
   "cell_type": "code",
   "execution_count": 16,
   "id": "opposite-massachusetts",
   "metadata": {},
   "outputs": [],
   "source": [
    "df_train['trade_order_count_mean'] = df_train['trade_order_count_mean'].astype('float')"
   ]
  },
  {
   "cell_type": "code",
   "execution_count": 17,
   "id": "cubic-grenada",
   "metadata": {},
   "outputs": [],
   "source": [
    "X = df_train.drop(['row_id','target'],axis=1)\n",
    "y = df_train['target']"
   ]
  },
  {
   "cell_type": "code",
   "execution_count": 19,
   "id": "satisfied-puppy",
   "metadata": {},
   "outputs": [],
   "source": [
    "groupedKFold = PurgedGroupTimeSeriesSplit(n_splits=4, group_gap=12)\n",
    "split = list(groupedKFold.split(df_train['target'],groups=df_train['stock_id'].values))"
   ]
  },
  {
   "cell_type": "code",
   "execution_count": 19,
   "id": "alpha-removal",
   "metadata": {},
   "outputs": [
    {
     "data": {
      "text/html": [
       "<div>\n",
       "<style scoped>\n",
       "    .dataframe tbody tr th:only-of-type {\n",
       "        vertical-align: middle;\n",
       "    }\n",
       "\n",
       "    .dataframe tbody tr th {\n",
       "        vertical-align: top;\n",
       "    }\n",
       "\n",
       "    .dataframe thead th {\n",
       "        text-align: right;\n",
       "    }\n",
       "</style>\n",
       "<table border=\"1\" class=\"dataframe\">\n",
       "  <thead>\n",
       "    <tr style=\"text-align: right;\">\n",
       "      <th></th>\n",
       "      <th>stock_id</th>\n",
       "      <th>time_id</th>\n",
       "      <th>row_id</th>\n",
       "    </tr>\n",
       "  </thead>\n",
       "  <tbody>\n",
       "    <tr>\n",
       "      <th>0</th>\n",
       "      <td>0</td>\n",
       "      <td>4</td>\n",
       "      <td>0-4</td>\n",
       "    </tr>\n",
       "    <tr>\n",
       "      <th>1</th>\n",
       "      <td>0</td>\n",
       "      <td>32</td>\n",
       "      <td>0-32</td>\n",
       "    </tr>\n",
       "    <tr>\n",
       "      <th>2</th>\n",
       "      <td>0</td>\n",
       "      <td>34</td>\n",
       "      <td>0-34</td>\n",
       "    </tr>\n",
       "  </tbody>\n",
       "</table>\n",
       "</div>"
      ],
      "text/plain": [
       "   stock_id  time_id row_id\n",
       "0         0        4    0-4\n",
       "1         0       32   0-32\n",
       "2         0       34   0-34"
      ]
     },
     "execution_count": 19,
     "metadata": {},
     "output_type": "execute_result"
    }
   ],
   "source": [
    "test"
   ]
  },
  {
   "cell_type": "code",
   "execution_count": 29,
   "id": "parallel-contamination",
   "metadata": {},
   "outputs": [],
   "source": [
    "df_test = df_test.replace([np.inf,-np.inf],np.nan).fillna(method='ffill')"
   ]
  },
  {
   "cell_type": "code",
   "execution_count": 35,
   "id": "together-peter",
   "metadata": {},
   "outputs": [
    {
     "name": "stdout",
     "output_type": "stream",
     "text": [
      "Fold: 0\n",
      "Loss: 0.049632111159232134\n",
      "Fold: 1\n",
      "Loss: 0.10317700195693687\n",
      "Fold: 2\n",
      "Loss: 0.12815857606911824\n",
      "Fold: 3\n",
      "Loss: 0.1419579124873462\n"
     ]
    }
   ],
   "source": [
    "model_name = 'xgb_reg_'\n",
    "\n",
    "models = dict()\n",
    "\n",
    "xgb_reg_params = {\n",
    "    'tree_method':'gpu_hist',\n",
    "    'learning_rate': .1,\n",
    "    'max_depth': 15,\n",
    "    'min_child_weight': 6,\n",
    "    'n_estimators': 350,\n",
    "    'subsample': 0.8,\n",
    "    'colsample_bytree': 0.6000000000000001\n",
    "} \n",
    "\n",
    "xgb_fit_params = {\n",
    "    'eval_metric':'rmse',\n",
    "    'early_stopping_rounds': 10,\n",
    "    'sample_weight_eval_set':[],\n",
    "    'sample_weight':np.zeros(0),\n",
    "    'verbose':False\n",
    "}\n",
    "\n",
    "xgb_params = {}\n",
    "xgb_params['reg_params'] = xgb_reg_params\n",
    "xgb_params['fit_params'] = xgb_fit_params\n",
    "\n",
    "loss = 0.0\n",
    "\n",
    "for _fold, (tr,te) in enumerate(split):\n",
    "\n",
    "    print(f'Fold: {_fold}')\n",
    "    \n",
    "    trainSetX = X.loc[tr]\n",
    "    trainSetY = y.loc[tr]\n",
    "    \n",
    "    valSetX = X.loc[te]\n",
    "    valSetY = y.loc[te]\n",
    "    \n",
    "    \n",
    "    weights = (1/np.square(trainSetY))\n",
    "    valWeights = (1/np.square(valSetY))\n",
    "    \n",
    "    xgb_params['fit_params']['sample_weight_eval_set'] = [weights,valWeights]\n",
    "    xgb_params['fit_params']['sample_weight'] = weights\n",
    "    \n",
    "    model = xgb.XGBRegressor(**xgb_params['reg_params'])\n",
    "    \n",
    "    model.fit(trainSetX,trainSetY,\n",
    "             eval_set=[(trainSetX,trainSetY),(valSetX,valSetY)],\n",
    "             **xgb_params['fit_params'])\n",
    "    \n",
    "    pred = model.predict(trainSetX)\n",
    "    \n",
    "    loss = (rmspe(trainSetY, pred))\n",
    "    \n",
    "    models[model_name+str(_fold)] = dict()\n",
    "    models[model_name+str(_fold)]['model'] = model\n",
    "    models[model_name+str(_fold)]['loss'] = loss\n",
    "    \n",
    "    print(f'Loss: {loss}')\n",
    "    \n",
    "    \n",
    "    \n",
    "    "
   ]
  },
  {
   "cell_type": "code",
   "execution_count": 42,
   "id": "dietary-physiology",
   "metadata": {},
   "outputs": [],
   "source": [
    "for model_name in models:\n",
    "        models[model_name]['model'].save_model(model_name+'.json')"
   ]
  },
  {
   "cell_type": "code",
   "execution_count": 30,
   "id": "simplified-marble",
   "metadata": {
    "scrolled": true
   },
   "outputs": [],
   "source": [
    "y_pred = df_test[['row_id']]\n",
    "X_test = df_test.drop(['time_id','row_id'],axis=1)"
   ]
  },
  {
   "cell_type": "code",
   "execution_count": 31,
   "id": "toxic-inflation",
   "metadata": {},
   "outputs": [],
   "source": [
    "X_test['trade_order_count_mean'] = X_test['trade_order_count_mean'].astype(float)"
   ]
  },
  {
   "cell_type": "code",
   "execution_count": 32,
   "id": "heated-exclusion",
   "metadata": {},
   "outputs": [],
   "source": [
    "target = np.zeros(len(X_test))"
   ]
  },
  {
   "cell_type": "code",
   "execution_count": 39,
   "id": "destroyed-tulsa",
   "metadata": {},
   "outputs": [],
   "source": [
    "# #load models\n",
    "# models = []\n",
    "# for fold in range(0,4):\n",
    "#     model_name = 'xgb_reg_{}.json'.format(fold)\n",
    "#     reg = xgb.XGBRegressor()\n",
    "#     reg.load_model(model_name)\n",
    "#     models.append(reg)"
   ]
  },
  {
   "cell_type": "code",
   "execution_count": 44,
   "id": "sorted-hygiene",
   "metadata": {},
   "outputs": [],
   "source": [
    "# for model in models:\n",
    "#     pred = model.predict(X_test)\n",
    "    \n",
    "#     target += pred/4"
   ]
  },
  {
   "cell_type": "code",
   "execution_count": 49,
   "id": "original-consequence",
   "metadata": {},
   "outputs": [],
   "source": [
    "for model_name in models:\n",
    "    pred = models[model_name]['model'].predict(X_test[valSetX.columns])\n",
    "    \n",
    "    target += pred/4"
   ]
  },
  {
   "cell_type": "code",
   "execution_count": 45,
   "id": "suspended-luxury",
   "metadata": {},
   "outputs": [],
   "source": [
    "y_pred = y_pred.assign(target=target)"
   ]
  },
  {
   "cell_type": "code",
   "execution_count": 46,
   "id": "outdoor-oxide",
   "metadata": {
    "scrolled": true
   },
   "outputs": [
    {
     "data": {
      "text/html": [
       "<div>\n",
       "<style scoped>\n",
       "    .dataframe tbody tr th:only-of-type {\n",
       "        vertical-align: middle;\n",
       "    }\n",
       "\n",
       "    .dataframe tbody tr th {\n",
       "        vertical-align: top;\n",
       "    }\n",
       "\n",
       "    .dataframe thead th {\n",
       "        text-align: right;\n",
       "    }\n",
       "</style>\n",
       "<table border=\"1\" class=\"dataframe\">\n",
       "  <thead>\n",
       "    <tr style=\"text-align: right;\">\n",
       "      <th></th>\n",
       "      <th>row_id</th>\n",
       "      <th>target</th>\n",
       "    </tr>\n",
       "  </thead>\n",
       "  <tbody>\n",
       "    <tr>\n",
       "      <th>0</th>\n",
       "      <td>0-4</td>\n",
       "      <td>0.002099</td>\n",
       "    </tr>\n",
       "    <tr>\n",
       "      <th>1</th>\n",
       "      <td>0-32</td>\n",
       "      <td>0.002099</td>\n",
       "    </tr>\n",
       "    <tr>\n",
       "      <th>2</th>\n",
       "      <td>0-34</td>\n",
       "      <td>0.002099</td>\n",
       "    </tr>\n",
       "  </tbody>\n",
       "</table>\n",
       "</div>"
      ],
      "text/plain": [
       "  row_id    target\n",
       "0    0-4  0.002099\n",
       "1   0-32  0.002099\n",
       "2   0-34  0.002099"
      ]
     },
     "execution_count": 46,
     "metadata": {},
     "output_type": "execute_result"
    }
   ],
   "source": [
    "y_pred"
   ]
  },
  {
   "cell_type": "code",
   "execution_count": 48,
   "id": "extensive-newport",
   "metadata": {},
   "outputs": [],
   "source": [
    "y_pred.to_csv('submission.csv')"
   ]
  },
  {
   "cell_type": "code",
   "execution_count": 54,
   "id": "focused-philosophy",
   "metadata": {},
   "outputs": [],
   "source": [
    "importance = []\n",
    "for model_name in models:\n",
    "    feat_imp = models[model_name]['model'].feature_importances_\n",
    "    importance.append(feat_imp)"
   ]
  },
  {
   "cell_type": "code",
   "execution_count": 58,
   "id": "equipped-syria",
   "metadata": {},
   "outputs": [
    {
     "data": {
      "image/png": "[encoded data removed]",
      "text/plain": [
       "<Figure size 432x288 with 1 Axes>"
      ]
     },
     "metadata": {
      "needs_background": "light"
     },
     "output_type": "display_data"
    },
    {
     "data": {
      "image/png": "[encoded data removed]",
      "text/plain": [
       "<Figure size 432x288 with 1 Axes>"
      ]
     },
     "metadata": {
      "needs_background": "light"
     },
     "output_type": "display_data"
    },
    {
     "data": {
      "image/png": "[encoded data removed]",
      "text/plain": [
       "<Figure size 432x288 with 1 Axes>"
      ]
     },
     "metadata": {
      "needs_background": "light"
     },
     "output_type": "display_data"
    },
    {
     "data": {
      "image/png": "[encoded data removed]",
      "text/plain": [
       "<Figure size 432x288 with 1 Axes>"
      ]
     },
     "metadata": {
      "needs_background": "light"
     },
     "output_type": "display_data"
    }
   ],
   "source": [
    "for imp in importance:\n",
    "    sorted_idx = imp.argsort()\n",
    "    plt.figure()\n",
    "    plt.barh(valSetX.columns,imp[sorted_idx])\n",
    "    plt.show()"
   ]
  }
 ],
 "metadata": {
  "kernelspec": {
   "display_name": "Python 3",
   "language": "python",
   "name": "python3"
  },
  "language_info": {
   "codemirror_mode": {
    "name": "ipython",
    "version": 3
   },
   "file_extension": ".py",
   "mimetype": "text/x-python",
   "name": "python",
   "nbconvert_exporter": "python",
   "pygments_lexer": "ipython3",
   "version": "3.8.5"
  }
 },
 "nbformat": 4,
 "nbformat_minor": 5
}
